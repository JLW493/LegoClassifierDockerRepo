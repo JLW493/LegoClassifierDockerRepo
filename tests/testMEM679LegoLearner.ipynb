import pytest
import os
import torch
from torchvision import datasets, transforms
from torch.utils.data import DataLoader
from torchvision.models import efficientnet_b0

# Test configuration
IMG_SIZE = 64
BATCH_SIZE = 10
NUM_CLASSES = 20  # Adjust based on your dataset
TRAIN_DIR = "path_to_train_directory"
VAL_DIR = "path_to_validation_directory"
MODEL_PATH = "lego_model.pth"

@pytest.fixture
def data_loaders():
    """Fixture to create DataLoaders for tests."""
    train_transforms = transforms.Compose([
        transforms.Resize((IMG_SIZE, IMG_SIZE)),
        transforms.ToTensor(),
        transforms.Normalize([0.5, 0.5, 0.5], [0.5, 0.5, 0.5])
    ])

    val_transforms = transforms.Compose([
        transforms.Resize((IMG_SIZE, IMG_SIZE)),
        transforms.ToTensor(),
        transforms.Normalize([0.5, 0.5, 0.5], [0.5, 0.5, 0.5])
    ])

    train_dataset = datasets.ImageFolder(TRAIN_DIR, transform=train_transforms)
    val_dataset = datasets.ImageFolder(VAL_DIR, transform=val_transforms)

    train_loader = DataLoader(train_dataset, batch_size=BATCH_SIZE, shuffle=True)
    val_loader = DataLoader(val_dataset, batch_size=BATCH_SIZE, shuffle=False)

    return train_loader, val_loader

@pytest.fixture
def model():
    """Fixture to initialize the model."""
    model = efficientnet_b0(pretrained=True)
    model.classifier[1] = torch.nn.Linear(model.classifier[1].in_features, NUM_CLASSES)
    return model

def test_train_model(data_loaders, model):
    """Test the train_model function to ensure it runs without errors."""
    train_loader, val_loader = data_loaders
    criterion = torch.nn.CrossEntropyLoss()
    optimizer = torch.optim.Adam(model.parameters(), lr=0.001)

    train_losses, val_losses, train_accuracies, val_accuracies = train_model(
        model, train_loader, val_loader, criterion, optimizer, num_epochs=1
    )

    assert len(train_losses) == 1, "Train losses not returned correctly."
    assert len(val_losses) == 1, "Validation losses not returned correctly."
    assert len(train_accuracies) == 1, "Train accuracies not returned correctly."
    assert len(val_accuracies) == 1, "Validation accuracies not returned correctly."

def test_predict_images_from_classes(model):
    """Test the predict_images_from_classes function to ensure predictions work."""
    # Assuming val_dir is set up with images for each class
    assert os.path.exists(VAL_DIR), "Validation directory does not exist."

    class_names = [d.name for d in os.scandir(VAL_DIR) if d.is_dir()]
    try:
        predict_images_from_classes(model, class_names, VAL_DIR)
    except Exception as e:
        pytest.fail(f"Prediction failed with error: {e}")

def test_model_save_and_load(model):
    """Test model saving and loading."""
    torch.save(model.state_dict(), MODEL_PATH)
    assert os.path.exists(MODEL_PATH), "Model file was not saved."

    loaded_model = efficientnet_b0(pretrained=False)
    loaded_model.classifier[1] = torch.nn.Linear(loaded_model.classifier[1].in_features, NUM_CLASSES)
    loaded_model.load_state_dict(torch.load(MODEL_PATH))
    assert loaded_model.classifier[1].out_features == NUM_CLASSES, "Model loading failed."
